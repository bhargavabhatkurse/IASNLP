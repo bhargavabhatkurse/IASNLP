{
 "cells": [
  {
   "cell_type": "code",
   "execution_count": 3,
   "id": "396788de-a635-406d-80dc-1afa76acd20b",
   "metadata": {},
   "outputs": [
    {
     "name": "stdout",
     "output_type": "stream",
     "text": [
      "Hello\n"
     ]
    }
   ],
   "source": [
    "print(\"Hello\")"
   ]
  },
  {
   "cell_type": "code",
   "execution_count": 4,
   "id": "eba63336-1a82-4c51-94e4-b610e8a223ab",
   "metadata": {},
   "outputs": [
    {
     "name": "stdout",
     "output_type": "stream",
     "text": [
      "['apple', 'banana']\n"
     ]
    }
   ],
   "source": [
    "fruits = ['apple', 'banana']\n",
    "print(fruits)"
   ]
  },
  {
   "cell_type": "code",
   "execution_count": 5,
   "id": "290d3e26-7417-49fd-923b-b565d780b3c5",
   "metadata": {},
   "outputs": [
    {
     "name": "stdout",
     "output_type": "stream",
     "text": [
      "['apple', 'kiwi']\n"
     ]
    }
   ],
   "source": [
    "fruits[1] = 'kiwi'\n",
    "print(fruits)"
   ]
  },
  {
   "cell_type": "code",
   "execution_count": 9,
   "id": "5c981d09-e4ee-449c-ac06-379e318685b0",
   "metadata": {},
   "outputs": [
    {
     "name": "stdout",
     "output_type": "stream",
     "text": [
      "['apple', 'kiwi', 'grapes', 'grapes']\n"
     ]
    }
   ],
   "source": [
    "fruits.append('grapes')\n",
    "print(fruits)"
   ]
  },
  {
   "cell_type": "code",
   "execution_count": 11,
   "id": "d2b6f99d-0735-4d30-b336-5081a24bc06c",
   "metadata": {},
   "outputs": [
    {
     "name": "stdout",
     "output_type": "stream",
     "text": [
      "['apple', 'kiwi']\n"
     ]
    }
   ],
   "source": [
    "fruits.remove('grapes')     #removes only 1 occurence\n",
    "print(fruits)"
   ]
  },
  {
   "cell_type": "code",
   "execution_count": 14,
   "id": "891761e5-59cf-4ca2-b939-b61209790bac",
   "metadata": {},
   "outputs": [
    {
     "name": "stdout",
     "output_type": "stream",
     "text": [
      "apple\n"
     ]
    }
   ],
   "source": [
    "mixed_fruits = [[1,'apple'],[2,'grapes']]\n",
    "print(mixed_fruits[0][1])"
   ]
  },
  {
   "cell_type": "code",
   "execution_count": 17,
   "id": "e8906465-c61a-4e42-8127-31ab08a3b4da",
   "metadata": {},
   "outputs": [
    {
     "name": "stdout",
     "output_type": "stream",
     "text": [
      "['apple pie', 'kiwi pie']\n"
     ]
    }
   ],
   "source": [
    "#list comprehensions\n",
    "pies = [f + ' pie' for f in fruits]\n",
    "print(pies)"
   ]
  },
  {
   "cell_type": "code",
   "execution_count": 18,
   "id": "2a1cad70-ea44-4c2c-984d-30963a069a02",
   "metadata": {},
   "outputs": [
    {
     "name": "stdout",
     "output_type": "stream",
     "text": [
      "3\n"
     ]
    }
   ],
   "source": [
    "#dictionaries - key value pairs\n",
    "inventory = {'apple':3, 'banana':4}\n",
    "print(inventory['apple'])"
   ]
  },
  {
   "cell_type": "code",
   "execution_count": 22,
   "id": "177a25a5-5803-4f4b-a5e0-3472a677aa44",
   "metadata": {},
   "outputs": [
    {
     "name": "stdout",
     "output_type": "stream",
     "text": [
      "{'apple': 3, 'banana': 4, 'grapes': 4}\n"
     ]
    }
   ],
   "source": [
    "#adding new pair\n",
    "inventory['grapes'] = 4\n",
    "print(inventory)"
   ]
  },
  {
   "cell_type": "code",
   "execution_count": 23,
   "id": "38c61fb7-058f-44da-bac0-513adca175ea",
   "metadata": {},
   "outputs": [
    {
     "name": "stdout",
     "output_type": "stream",
     "text": [
      "{'apple': 3, 'banana': 4}\n"
     ]
    }
   ],
   "source": [
    "del inventory['grapes']  #deleting\n",
    "print(inventory)"
   ]
  },
  {
   "cell_type": "code",
   "execution_count": 26,
   "id": "314ab9d8-ca2b-449a-8f16-6501a6355588",
   "metadata": {},
   "outputs": [
    {
     "name": "stdout",
     "output_type": "stream",
     "text": [
      "['apple', 'banana'] [3, 4]\n"
     ]
    }
   ],
   "source": [
    "print(list(inventory.keys()),list(inventory.values()))"
   ]
  },
  {
   "cell_type": "code",
   "execution_count": 36,
   "id": "b1193089-44c7-4493-9364-b4a5e971e2fd",
   "metadata": {},
   "outputs": [
    {
     "name": "stdout",
     "output_type": "stream",
     "text": [
      "0\n"
     ]
    }
   ],
   "source": [
    "print(inventory.get('tomato',0))   #exception safe method"
   ]
  },
  {
   "cell_type": "code",
   "execution_count": 34,
   "id": "9f513a12-cbc8-4ad1-99e4-10e0f6b8bb9c",
   "metadata": {},
   "outputs": [
    {
     "name": "stdout",
     "output_type": "stream",
     "text": [
      "Counter({'a': 2, 'b': 1})\n"
     ]
    }
   ],
   "source": [
    "#Counters\n",
    "a = ['a','a','b']\n",
    "from collections import Counter \n",
    "counts = Counter(a)\n",
    "print(counts)"
   ]
  },
  {
   "cell_type": "code",
   "execution_count": 48,
   "id": "f8258827-c31d-43b9-96e1-9092493a9cfc",
   "metadata": {},
   "outputs": [
    {
     "name": "stdout",
     "output_type": "stream",
     "text": [
      "    HELLO WORLD      hello world      hello world      Hello World  hello world\n"
     ]
    }
   ],
   "source": [
    "#string manipulation\n",
    "text = '    hello world '\n",
    "print(text.upper(),text.lower(),text.capitalize(),text.title(),text.strip())"
   ]
  },
  {
   "cell_type": "code",
   "execution_count": 52,
   "id": "322a5d84-aa29-4b05-9fbd-7bf1e477610c",
   "metadata": {},
   "outputs": [
    {
     "name": "stdout",
     "output_type": "stream",
     "text": [
      "    hello universe \n",
      "    hello world \n"
     ]
    }
   ],
   "source": [
    "print(text.replace('world','universe')) #doesn't overwrite\n",
    "print(text)"
   ]
  },
  {
   "cell_type": "code",
   "execution_count": 60,
   "id": "14e3cc9f-a410-4ab5-a9f8-7de78170882c",
   "metadata": {},
   "outputs": [
    {
     "name": "stdout",
     "output_type": "stream",
     "text": [
      "['These', 'words', 'letters', 'apple', 'world', 'humor']\n",
      "These words have five letters: orange, world, humor\n"
     ]
    }
   ],
   "source": [
    "#Regex\n",
    "import re\n",
    "pattern = r\"\\b\\w{5,}\\b\"\n",
    "#\\s matches the front spaces\n",
    "\n",
    "sentence  = 'These words have five letters: apple, world, humor'\n",
    "\n",
    "matches = re.findall(pattern, sentence)\n",
    "print(matches)\n",
    "\n",
    "modified = re.sub(r'apple','orange',sentence)\n",
    "print(modified)\n"
   ]
  },
  {
   "cell_type": "code",
   "execution_count": 78,
   "id": "106de411-867b-403e-883d-71b225f6f3fb",
   "metadata": {},
   "outputs": [
    {
     "name": "stdout",
     "output_type": "stream",
     "text": [
      "line 1\n",
      "line 2\n",
      "line 5\n"
     ]
    }
   ],
   "source": [
    "#file IO\n",
    "filepath = 'example.txt' #current directory\n",
    "#read is default mode\n",
    "#w mode overwrites the file\n",
    "#'a mode - add at the end\n",
    "#b binary mode - read non-text files\n",
    "\n",
    "with open(filepath, 'w') as f: #with takes care of opening and closing the file\n",
    "    f.write(\"line 1 \\n line 2\")\n",
    "\n",
    "# with open(filepath, 'r') as f:\n",
    "#     for line in f:\n",
    "#         print(line.strip())\n",
    "\n",
    "with open(filepath, 'a') as f:\n",
    "    f.write(\"\\nline 5\")\n",
    "\n",
    "with open(filepath, 'r') as f:\n",
    "    for line in f:\n",
    "        print(line.strip())\n",
    "        \n",
    "# with open(filepath, 'r') as f:\n",
    "#     content = f.read()\n",
    "#     print(content)\n",
    "    \n"
   ]
  },
  {
   "cell_type": "code",
   "execution_count": 87,
   "id": "ecf17c45-b032-4bfe-957c-ad9c7f082bc9",
   "metadata": {},
   "outputs": [
    {
     "name": "stdout",
     "output_type": "stream",
     "text": [
      "hi{\"apple\": 3, \"banana\": 4}\n"
     ]
    }
   ],
   "source": [
    "#JSON - dictionary but everything is a string\n",
    "import json\n",
    "inventory = {'apple':3, 'banana':4}\n",
    "json_str = json.dumps(inventory)\n",
    "print(\"hi\" + json_str)\n",
    "\n",
    "# dic = json.load(json_str)\n"
   ]
  },
  {
   "cell_type": "code",
   "execution_count": 88,
   "id": "6ef9f06c-b21f-4414-bb9c-a95cc6d4226d",
   "metadata": {},
   "outputs": [
    {
     "name": "stdout",
     "output_type": "stream",
     "text": [
      "['example.txt']\n"
     ]
    }
   ],
   "source": [
    "import glob   #to search for file extensions\n",
    "pattern = '*.txt'\n",
    "files = glob.glob(pattern)\n",
    "print(files)"
   ]
  },
  {
   "cell_type": "code",
   "execution_count": 92,
   "id": "dce576cd-b130-41cb-9a86-b58d1f0e8da7",
   "metadata": {},
   "outputs": [
    {
     "name": "stdout",
     "output_type": "stream",
     "text": [
      "Collecting pathlib\n",
      "  Obtaining dependency information for pathlib from https://files.pythonhosted.org/packages/78/f9/690a8600b93c332de3ab4a344a4ac34f00c8f104917061f779db6a918ed6/pathlib-1.0.1-py3-none-any.whl.metadata\n",
      "  Downloading pathlib-1.0.1-py3-none-any.whl.metadata (5.1 kB)\n",
      "Downloading pathlib-1.0.1-py3-none-any.whl (14 kB)\n",
      "Installing collected packages: pathlib\n",
      "Successfully installed pathlib-1.0.1\n",
      "\n",
      "\u001b[1m[\u001b[0m\u001b[34;49mnotice\u001b[0m\u001b[1;39;49m]\u001b[0m\u001b[39;49m A new release of pip is available: \u001b[0m\u001b[31;49m23.2.1\u001b[0m\u001b[39;49m -> \u001b[0m\u001b[32;49m25.1.1\u001b[0m\n",
      "\u001b[1m[\u001b[0m\u001b[34;49mnotice\u001b[0m\u001b[1;39;49m]\u001b[0m\u001b[39;49m To update, run: \u001b[0m\u001b[32;49mpip3 install --upgrade pip\u001b[0m\n"
     ]
    }
   ],
   "source": [
    "!pip3 install pathlib\n"
   ]
  },
  {
   "cell_type": "code",
   "execution_count": 132,
   "id": "d80cc3de-a4a6-4508-86c0-68076d04b658",
   "metadata": {},
   "outputs": [
    {
     "name": "stdout",
     "output_type": "stream",
     "text": [
      "/Users/rajeshbhatkurse/Desktop/IASNLP 2025\n",
      "example.txt\n",
      ".ipynb_checkpoints\n",
      "python - session 1.ipynb\n"
     ]
    }
   ],
   "source": [
    "from pathlib import Path  #to manipulate paths similar like os\n",
    "p = Path(\".\")\n",
    "print(p.resolve())\n",
    "for item in p.iterdir():\n",
    "    print(item)"
   ]
  },
  {
   "cell_type": "code",
   "execution_count": 130,
   "id": "16277703-da42-4d3f-9c3e-f7c896dc3f98",
   "metadata": {},
   "outputs": [],
   "source": [
    "\n",
    "#classes \n",
    "class Fruit:\n",
    "    def __init__(self,name, color):\n",
    "        self.name = name\n",
    "        self.color = color\n",
    "    def __str__(self):\n",
    "        return f\"{self.color}\"\n",
    "    def describe(self):\n",
    "        return f\"This apple is {self.color}\"\n"
   ]
  },
  {
   "cell_type": "code",
   "execution_count": 131,
   "id": "1fbaa6fd-9986-4b8e-8414-3a4a9c707cbc",
   "metadata": {},
   "outputs": [
    {
     "name": "stdout",
     "output_type": "stream",
     "text": [
      "apple\n",
      "red\n",
      "This apple is red\n"
     ]
    }
   ],
   "source": [
    "apple = Fruit('apple','red')\n",
    "print(apple.name)\n",
    "print(apple)\n",
    "print(apple.describe())"
   ]
  },
  {
   "cell_type": "code",
   "execution_count": 133,
   "id": "e7090436-5acf-4768-9be9-bb019db648dc",
   "metadata": {},
   "outputs": [
    {
     "name": "stdout",
     "output_type": "stream",
     "text": [
      "Requirement already satisfied: nltk in /Library/Frameworks/Python.framework/Versions/3.11/lib/python3.11/site-packages (3.9.1)\n",
      "Requirement already satisfied: click in /Library/Frameworks/Python.framework/Versions/3.11/lib/python3.11/site-packages (from nltk) (8.1.7)\n",
      "Requirement already satisfied: joblib in /Library/Frameworks/Python.framework/Versions/3.11/lib/python3.11/site-packages (from nltk) (1.3.2)\n",
      "Requirement already satisfied: regex>=2021.8.3 in /Library/Frameworks/Python.framework/Versions/3.11/lib/python3.11/site-packages (from nltk) (2024.11.6)\n",
      "Requirement already satisfied: tqdm in /Library/Frameworks/Python.framework/Versions/3.11/lib/python3.11/site-packages (from nltk) (4.67.1)\n"
     ]
    }
   ],
   "source": [
    "!pip3 install nltk"
   ]
  },
  {
   "cell_type": "code",
   "execution_count": 134,
   "id": "e80d53b2-ea87-4420-9a7c-f1f8655e651a",
   "metadata": {},
   "outputs": [
    {
     "name": "stderr",
     "output_type": "stream",
     "text": [
      "[nltk_data] Downloading package punkt to\n",
      "[nltk_data]     /Users/rajeshbhatkurse/nltk_data...\n",
      "[nltk_data]   Unzipping tokenizers/punkt.zip.\n",
      "[nltk_data] Downloading package wordnet to\n",
      "[nltk_data]     /Users/rajeshbhatkurse/nltk_data...\n",
      "[nltk_data] Downloading package omw-1.4 to\n",
      "[nltk_data]     /Users/rajeshbhatkurse/nltk_data...\n"
     ]
    },
    {
     "data": {
      "text/plain": [
       "True"
      ]
     },
     "execution_count": 134,
     "metadata": {},
     "output_type": "execute_result"
    }
   ],
   "source": [
    "import nltk\n",
    "nltk.download('punkt')\n",
    "nltk.download('wordnet')\n",
    "nltk.download('omw-1.4')\n"
   ]
  },
  {
   "cell_type": "code",
   "execution_count": 139,
   "id": "81adb858-5ea9-4e13-a243-ff9bc7853f1a",
   "metadata": {},
   "outputs": [
    {
     "name": "stdout",
     "output_type": "stream",
     "text": [
      "['run', 'walk']\n",
      "lemma ['Running', 'walking']\n"
     ]
    }
   ],
   "source": [
    "#stemming\n",
    "words = ['Running','walking']\n",
    "stemmer = nltk.PorterStemmer()\n",
    "stems = [stemmer.stem(w) for w in words]\n",
    "print(stems)\n",
    "\n",
    "lemmatizer = nltk.WordNetLemmatizer()   #finds the basic dictionary word of it\n",
    "lemmas = [lemmatizer.lemmatize(w) for w in words]\n",
    "print(\"lemma\",lemmas)"
   ]
  }
 ],
 "metadata": {
  "kernelspec": {
   "display_name": "Python 3 (ipykernel)",
   "language": "python",
   "name": "python3"
  },
  "language_info": {
   "codemirror_mode": {
    "name": "ipython",
    "version": 3
   },
   "file_extension": ".py",
   "mimetype": "text/x-python",
   "name": "python",
   "nbconvert_exporter": "python",
   "pygments_lexer": "ipython3",
   "version": "3.11.5"
  }
 },
 "nbformat": 4,
 "nbformat_minor": 5
}
